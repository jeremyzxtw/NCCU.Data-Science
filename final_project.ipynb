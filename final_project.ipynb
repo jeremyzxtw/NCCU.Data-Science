{
 "cells": [
  {
   "cell_type": "code",
   "execution_count": null,
   "metadata": {
    "ExecuteTime": {
     "end_time": "2021-01-05T17:52:02.975746Z",
     "start_time": "2021-01-05T17:52:01.462845Z"
    }
   },
   "outputs": [],
   "source": [
    "!pip install geneticalgorithm"
   ]
  },
  {
   "cell_type": "code",
   "execution_count": null,
   "metadata": {
    "ExecuteTime": {
     "end_time": "2021-01-05T17:52:03.440541Z",
     "start_time": "2021-01-05T17:52:03.434122Z"
    }
   },
   "outputs": [],
   "source": [
    "import numpy as np\n",
    "import matplotlib.pyplot as plt\n",
    "import scipy\n",
    "from collections import defaultdict\n",
    "from geneticalgorithm import geneticalgorithm as ga"
   ]
  },
  {
   "cell_type": "code",
   "execution_count": null,
   "metadata": {
    "ExecuteTime": {
     "end_time": "2021-01-05T17:52:03.914813Z",
     "start_time": "2021-01-05T17:52:03.905907Z"
    },
    "code_folding": []
   },
   "outputs": [],
   "source": [
    "food_type_dict = {\n",
    "\n",
    "    'main':\n",
    "        {\n",
    "            'price': 50,\n",
    "            'please_level': 30,\n",
    "            'fresh_rate': [0.5, 1.0],\n",
    "            'bug_rate': 0.05,\n",
    "            'bug_affective_rate': 0.05,\n",
    "            'overtake_plus_rate': 1.8\n",
    "        },\n",
    "\n",
    "    'side':\n",
    "        {\n",
    "            'price': 20,\n",
    "            'please_level': 15,\n",
    "            'fresh_rate': [0.5, 1.0],\n",
    "            'bug_rate': 0.05,\n",
    "            'bug_affective_rate': 0.05,\n",
    "            'overtake_plus_rate': 1.8\n",
    "        },\n",
    "\n",
    "    'little':\n",
    "        {\n",
    "            'price': 10,\n",
    "            'please_level': 10,\n",
    "            'fresh_rate': [0.5, 1.0],\n",
    "            'bug_rate': 0.05,\n",
    "            'bug_affective_rate': 0.05,\n",
    "            'overtake_plus_rate': 1.8\n",
    "        }\n",
    "}\n",
    "\n",
    "\n",
    "class food:\n",
    "\n",
    "    def __init__(self, food_type, overtake):\n",
    "        self.info = food_type_dict[food_type]\n",
    "        self.overtake = overtake\n",
    "\n",
    "    def get_satisfactory(self):\n",
    "        _fresh_rate = np.random.uniform(\n",
    "            self.info['fresh_rate'][0], self.info['fresh_rate'][1])\n",
    "        _is_bug = bool(np.random.binomial(1, self.info['bug_rate'], 1) == 1)\n",
    "\n",
    "        if _is_bug:\n",
    "            satisfactory = _fresh_rate * \\\n",
    "                self.info['please_level']*self.info['bug_affective_rate']\n",
    "        else:\n",
    "            satisfactory = _fresh_rate*self.info['please_level']\n",
    "\n",
    "        if self.overtake:\n",
    "            satisfactory *= self.info['overtake_plus_rate']\n",
    "        return satisfactory\n",
    "\n",
    "    def get_food_price(self):\n",
    "        return self.info['price']"
   ]
  },
  {
   "cell_type": "code",
   "execution_count": null,
   "metadata": {
    "ExecuteTime": {
     "end_time": "2021-01-05T17:52:04.274738Z",
     "start_time": "2021-01-05T17:52:04.267984Z"
    },
    "code_folding": [
     0
    ]
   },
   "outputs": [],
   "source": [
    "crit_type_dict = {\n",
    "    'boss': [0.8, [5, 10, 15], [.8, .15, .05]],\n",
    "    'boss_wife': [0.6, [5, 10], [.9, .1]],\n",
    "    'granny': [0.4, [5], [1.0]]\n",
    "}\n",
    "\n",
    "\n",
    "class elite_employee:\n",
    "\n",
    "    def __init__(self, crit_type):\n",
    "        self.crit_type = crit_type_dict[crit_type]\n",
    "\n",
    "    def challenge_the_price(self, food_price):\n",
    "        uAreToOver = bool(np.random.binomial(1, self.crit_type[0], 1) == 1)\n",
    "        if uAreToOver:\n",
    "            crit_damage = np.random.choice(\n",
    "                self.crit_type[1], 1, p=self.crit_type[2])[0]\n",
    "            return food_price+crit_damage\n",
    "        else:\n",
    "            return food_price\n",
    "\n",
    "    def cal_end_price(self, food_obj):\n",
    "        if food_obj.overtake:\n",
    "            food_end_price = self.challenge_the_price(\n",
    "                food_obj.get_food_price())\n",
    "            return food_end_price\n",
    "        return food_obj.get_food_price()"
   ]
  },
  {
   "cell_type": "code",
   "execution_count": null,
   "metadata": {
    "ExecuteTime": {
     "end_time": "2021-01-05T17:52:04.632538Z",
     "start_time": "2021-01-05T17:52:04.614465Z"
    },
    "code_folding": []
   },
   "outputs": [],
   "source": [
    "strategy_x1_dict = {\n",
    "    'normal': [food('main', False), food('side', False), food('little', False)],\n",
    "    'combo': [food('main', False), food('side', True), food('little', True)],\n",
    "    'side': [food('main', False), food('side', True), food('little', False)],\n",
    "    'little': [food('main', False), food('side', False), food('little', True)],\n",
    "}\n",
    "\n",
    "#main, side, little\n",
    "strategy_x2_dict = {\n",
    "    '1main2side2little': [1, 2, 2],\n",
    "    '1main1side3little': [1, 1, 3],\n",
    "    '1main3little': [1, 0, 3],\n",
    "    '2main2little': [0, 2, 2],\n",
    "    '2side3little': [0, 2, 3],\n",
    "    'forGA': [],\n",
    "}\n",
    "\n",
    "\n",
    "class customer:\n",
    "\n",
    "    def __init__(self, strategy_x1, strategy_x2, employee_obj=None, penalty_rate=2000):\n",
    "        self.food_obj_list = strategy_x1_dict[strategy_x1]\n",
    "        self.stra2 = strategy_x2_dict[strategy_x2]\n",
    "        self.food_price_list = None\n",
    "        self.opponent = employee_obj\n",
    "        self.penalty_rate = penalty_rate\n",
    "        self.price_buffer = []\n",
    "\n",
    "    def get_total_satisfactory(self):\n",
    "        _m = [self.food_obj_list[0].get_satisfactory()\n",
    "              for _ in range(self.stra2[0])]\n",
    "        _s = [self.food_obj_list[1].get_satisfactory()\n",
    "              for _ in range(self.stra2[1])]\n",
    "        _l = [self.food_obj_list[2].get_satisfactory()\n",
    "              for _ in range(self.stra2[2])]\n",
    "\n",
    "        return sum(_m+_s+_l)\n",
    "\n",
    "    def get_total_satisfactory_GA(self, numlist):\n",
    "        _m = [self.food_obj_list[0].get_satisfactory()\n",
    "              for _ in range(int(numlist[0]))]\n",
    "        _s = [self.food_obj_list[1].get_satisfactory()\n",
    "              for _ in range(int(numlist[1]))]\n",
    "        _l = [self.food_obj_list[2].get_satisfactory()\n",
    "              for _ in range(int(numlist[2]))]\n",
    "\n",
    "        buffer = 0\n",
    "        idx = 0\n",
    "        for n in numlist:\n",
    "            n = int(n)\n",
    "            for _ in range(n):\n",
    "                afterprice = self.opponent.cal_end_price(\n",
    "                    self.food_obj_list[idx])\n",
    "                buffer += afterprice\n",
    "            idx += 1\n",
    "        self.price_buffer.append(buffer)\n",
    "        if buffer > 130:\n",
    "            return -(sum(_m+_s+_l)-self.penalty_rate*buffer)\n",
    "\n",
    "        return -(sum(_m+_s+_l))\n",
    "\n",
    "    def init_food_price(self):\n",
    "        _m = [self.food_obj_list[0].get_food_price()\n",
    "              for _ in range(self.stra2[0])]\n",
    "        _s = [self.food_obj_list[1].get_food_price()\n",
    "              for _ in range(self.stra2[1])]\n",
    "        _l = [self.food_obj_list[2].get_food_price()\n",
    "              for _ in range(self.stra2[2])]\n",
    "\n",
    "        self.food_price_list = _m+_s+_l\n",
    "\n",
    "    def after_challenge_price(self, elite_emp_obj):\n",
    "        buffer = 0\n",
    "        idx = 0\n",
    "\n",
    "        for n in self.stra2:\n",
    "            for _ in range(n):\n",
    "                afterprice = elite_emp_obj.cal_end_price(\n",
    "                    self.food_obj_list[idx])\n",
    "                buffer += afterprice\n",
    "            idx += 1\n",
    "        return buffer"
   ]
  },
  {
   "cell_type": "code",
   "execution_count": null,
   "metadata": {
    "ExecuteTime": {
     "end_time": "2021-01-05T17:54:43.900387Z",
     "start_time": "2021-01-05T17:54:13.196329Z"
    }
   },
   "outputs": [],
   "source": [
    "############# Monte Carlo Simulation ########################\n",
    "\n",
    "S = int(input('請輸入要模擬的次數'))\n",
    "types1 = ['normal', 'combo', 'side', 'little']\n",
    "types2 = ['1main2side2little', '1main1side3little',\n",
    "          '1main3little', '2main2little', '2side3little']\n",
    "employees = ['boss', 'boss_wife', 'granny']\n",
    "\n",
    "result_dict = defaultdict()\n",
    "\n",
    "for t1 in types1:\n",
    "    result_dict[t1] = {}\n",
    "    for t2 in types2:\n",
    "        result_dict[t1][t2] = {}\n",
    "        for e in employees:\n",
    "            result_dict[t1][t2][e] = {}\n",
    "            employee = elite_employee(e)\n",
    "            cus = customer(t1, t2, employee_obj=employee)\n",
    "            \n",
    "\n",
    "            satifactory_list = []\n",
    "            end_price_list = []\n",
    "\n",
    "            for _ in range(S):\n",
    "                satifactory_list.append(cus.get_total_satisfactory())\n",
    "                end_price_list.append(cus.after_challenge_price(employee))\n",
    "\n",
    "            result_dict[t1][t2][e]['avg_satisfactory'] = np.mean(\n",
    "                satifactory_list)\n",
    "            result_dict[t1][t2][e]['avg_price'] = np.mean(end_price_list)\n",
    "            print(\n",
    "                f\"{t1} {t2} {e} \\navg_satisfactory: {result_dict[t1][t2][e]['avg_satisfactory']} || avg_price: {result_dict[t1][t2][e]['avg_price']}\\n\\n\")\n",
    "\n",
    "#             plt.subplot(221)\n",
    "#             plt.hist(satifactory_list)\n",
    "#             plt.subplot(222)\n",
    "#             plt.hist(end_price_list)\n",
    "#             plt.title(t1+' '+ t2+ ' ' + e)\n",
    "#             plt.show()"
   ]
  },
  {
   "cell_type": "code",
   "execution_count": null,
   "metadata": {
    "ExecuteTime": {
     "end_time": "2021-01-05T17:52:08.536963Z",
     "start_time": "2021-01-05T17:52:05.657875Z"
    }
   },
   "outputs": [],
   "source": [
    "############# Genetic Algo ########################\n",
    "\n",
    "types1 = ['normal', 'combo', 'side', 'little']\n",
    "employees = ['boss', 'boss_wife', 'granny']\n",
    "\n",
    "result_dict = defaultdict()\n",
    "varbound = np.array([[1, 7]]*3)\n",
    "\n",
    "for t1 in types1:\n",
    "    for e in employees:\n",
    "        print('\\n')\n",
    "        print(t1,'\\t', e)\n",
    "        employee = elite_employee(e)\n",
    "        cus = customer(t1, 'forGA', employee_obj=employee)\n",
    "        \n",
    "        model = ga(function=cus.get_total_satisfactory_GA, dimension=3,\n",
    "                   variable_type='real', variable_boundaries=varbound)\n",
    "\n",
    "        model.run()\n",
    "        print('Average Price: ',sum(cus.price_buffer)/len(cus.price_buffer))\n",
    "        print('\\n')\n",
    "        print('='*80,'\\n')"
   ]
  },
  {
   "cell_type": "code",
   "execution_count": null,
   "metadata": {},
   "outputs": [],
   "source": []
  }
 ],
 "metadata": {
  "kernelspec": {
   "display_name": "Python 3",
   "language": "python",
   "name": "python3"
  },
  "language_info": {
   "codemirror_mode": {
    "name": "ipython",
    "version": 3
   },
   "file_extension": ".py",
   "mimetype": "text/x-python",
   "name": "python",
   "nbconvert_exporter": "python",
   "pygments_lexer": "ipython3",
   "version": "3.7.7"
  },
  "toc": {
   "base_numbering": 1,
   "nav_menu": {},
   "number_sections": true,
   "sideBar": true,
   "skip_h1_title": false,
   "title_cell": "Table of Contents",
   "title_sidebar": "Contents",
   "toc_cell": false,
   "toc_position": {},
   "toc_section_display": true,
   "toc_window_display": false
  },
  "varInspector": {
   "cols": {
    "lenName": 16,
    "lenType": 16,
    "lenVar": 40
   },
   "kernels_config": {
    "python": {
     "delete_cmd_postfix": "",
     "delete_cmd_prefix": "del ",
     "library": "var_list.py",
     "varRefreshCmd": "print(var_dic_list())"
    },
    "r": {
     "delete_cmd_postfix": ") ",
     "delete_cmd_prefix": "rm(",
     "library": "var_list.r",
     "varRefreshCmd": "cat(var_dic_list()) "
    }
   },
   "position": {
    "height": "412.205px",
    "left": "704.958px",
    "right": "20px",
    "top": "102.986px",
    "width": "358.75px"
   },
   "types_to_exclude": [
    "module",
    "function",
    "builtin_function_or_method",
    "instance",
    "_Feature"
   ],
   "window_display": false
  }
 },
 "nbformat": 4,
 "nbformat_minor": 4
}
